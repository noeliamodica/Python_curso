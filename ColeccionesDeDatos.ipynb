{
 "cells": [
  {
   "cell_type": "code",
   "execution_count": null,
   "id": "6760f845",
   "metadata": {},
   "outputs": [],
   "source": [
    "Ejercicio 1\n",
    "Realiza un programa que siga las siguientes instrucciones:\n",
    "\n",
    "Crea un conjunto llamado usuarios con los usuarios Marta, David, Elvira, Juan y Marcos\n",
    "Crea un conjunto llamado administradores con los administradores Juan y Marta.\n",
    "Borra al administrador Juan del conjunto de administradores.\n",
    "Añade a Marcos como un nuevo administrador, pero no lo borres del conjunto de usuarios.\n",
    "Muestra todos los usuarios por pantalla de forma dinámica, además debes indicar cada usuario es administrador o no.\n",
    "Sugerencia\n",
    "\n",
    "Los conjuntos se pueden recorrer dinámicamente utilizando el bucle for de forma similar a una lista.\n",
    "También cuentan con un método llamado .discard(elemento) que sirve para borrar o descartar un elemento.\n"
   ]
  },
  {
   "cell_type": "code",
   "execution_count": 1,
   "id": "12536a1e",
   "metadata": {},
   "outputs": [
    {
     "name": "stdout",
     "output_type": "stream",
     "text": [
      "Marta - Es administrador\n",
      "Juan - No es administrador\n",
      "Marcos - Es administrador\n",
      "David - No es administrador\n",
      "Elvira - No es administrador\n"
     ]
    }
   ],
   "source": [
    "usuarios = {\"Marta\", \"David\", \"Elvira\", \"Juan\", \"Marcos\"}\n",
    "administradores = {\"Juan\", \"Marta\"}\n",
    "\n",
    "administradores.discard(\"Juan\")  # Borra al administrador Juan del conjunto de administradores\n",
    "administradores.add(\"Marcos\")  # Añade a Marcos como un nuevo administrador\n",
    "\n",
    "for usuario in usuarios:\n",
    "    if usuario in administradores:\n",
    "        print(usuario, \"- Es administrador\")\n",
    "    else:\n",
    "        print(usuario, \"- No es administrador\")\n"
   ]
  },
  {
   "cell_type": "code",
   "execution_count": null,
   "id": "36770b79",
   "metadata": {},
   "outputs": [],
   "source": [
    "Ejercicio 2\n",
    "Durante el desarrollo de un pequeño videojuego se te encarga configurar y balancear cada clase de personaje jugable. Partiendo que la estadística base es 2, debes cumplir las siguientes condiciones:\n",
    "\n",
    "El caballero tiene el doble de vida y defensa que un guerrero.\n",
    "El guerrero tiene el doble de ataque y alcance que un caballero.\n",
    "El arquero tiene la misma vida y ataque que un guerrero, pero la mitad de su defensa y el doble de su alcance.\n",
    "Muestra como quedan las propiedades de los tres personajes."
   ]
  },
  {
   "cell_type": "code",
   "execution_count": 2,
   "id": "7f54327d",
   "metadata": {},
   "outputs": [
    {
     "name": "stdout",
     "output_type": "stream",
     "text": [
      "Propiedades del Caballero:\n",
      "Vida: 4\n",
      "Ataque: 2\n",
      "Defensa: 4\n",
      "Alcance: 2\n",
      "\n",
      "Propiedades del Guerrero:\n",
      "Vida: 2\n",
      "Ataque: 4\n",
      "Defensa: 2\n",
      "Alcance: 4\n",
      "\n",
      "Propiedades del Arquero:\n",
      "Vida: 2\n",
      "Ataque: 4\n",
      "Defensa: 1.0\n",
      "Alcance: 4\n"
     ]
    }
   ],
   "source": [
    "estadistica_base = 2\n",
    "\n",
    "# Estadísticas del caballero\n",
    "vida_caballero = estadistica_base * 2\n",
    "ataque_caballero = estadistica_base\n",
    "defensa_caballero = estadistica_base * 2\n",
    "alcance_caballero = estadistica_base\n",
    "\n",
    "# Estadísticas del guerrero\n",
    "vida_guerrero = estadistica_base\n",
    "ataque_guerrero = estadistica_base * 2\n",
    "defensa_guerrero = estadistica_base\n",
    "alcance_guerrero = estadistica_base * 2\n",
    "\n",
    "# Estadísticas del arquero\n",
    "vida_arquero = estadistica_base\n",
    "ataque_arquero = estadistica_base * 2\n",
    "defensa_arquero = estadistica_base / 2\n",
    "alcance_arquero = estadistica_base * 2\n",
    "\n",
    "# Mostrar las propiedades de los personajes\n",
    "print(\"Propiedades del Caballero:\")\n",
    "print(\"Vida:\", vida_caballero)\n",
    "print(\"Ataque:\", ataque_caballero)\n",
    "print(\"Defensa:\", defensa_caballero)\n",
    "print(\"Alcance:\", alcance_caballero)\n",
    "print()\n",
    "\n",
    "print(\"Propiedades del Guerrero:\")\n",
    "print(\"Vida:\", vida_guerrero)\n",
    "print(\"Ataque:\", ataque_guerrero)\n",
    "print(\"Defensa:\", defensa_guerrero)\n",
    "print(\"Alcance:\", alcance_guerrero)\n",
    "print()\n",
    "\n",
    "print(\"Propiedades del Arquero:\")\n",
    "print(\"Vida:\", vida_arquero)\n",
    "print(\"Ataque:\", ataque_arquero)\n",
    "print(\"Defensa:\", defensa_arquero)\n",
    "print(\"Alcance:\", alcance_arquero)\n"
   ]
  },
  {
   "cell_type": "code",
   "execution_count": null,
   "id": "e1d6f63e",
   "metadata": {},
   "outputs": [],
   "source": [
    "Ejercicio 3\n",
    "Durante la planificación de un proyecto se han acordado una lista de tareas. Para cada una de estas tareas se ha asignado un orden de prioridad (cuanto menor es el número de orden, más prioridad).\n",
    "\n",
    "¿Eres capaz de crear una estructura del tipo cola con todas las tareas ordenadas pero sin los números de orden?\n",
    "\n",
    "Sugerencia\n",
    "\n",
    "Para ordenar automáticamente una lista es posible utilizar el método .sort(), deberias probarlo."
   ]
  },
  {
   "cell_type": "code",
   "execution_count": 3,
   "id": "be553f1d",
   "metadata": {},
   "outputs": [
    {
     "name": "stdout",
     "output_type": "stream",
     "text": [
      "Realizar análisis de requerimientos\n",
      "Realizar documentación de usuario\n",
      "Crear documentación técnica\n",
      "Realizar pruebas unitarias\n",
      "Desarrollar prototipo\n",
      "Realizar pruebas de integración\n",
      "Implementar funcionalidades\n"
     ]
    }
   ],
   "source": [
    "# Lista de tareas con su orden de prioridad\n",
    "tareas = [\n",
    "    (1, \"Realizar análisis de requerimientos\"),\n",
    "    (3, \"Desarrollar prototipo\"),\n",
    "    (2, \"Crear documentación técnica\"),\n",
    "    (4, \"Implementar funcionalidades\"),\n",
    "    (2, \"Realizar pruebas unitarias\"),\n",
    "    (3, \"Realizar pruebas de integración\"),\n",
    "    (1, \"Realizar documentación de usuario\"),\n",
    "]\n",
    "\n",
    "# Ordenar la lista de tareas por prioridad (orden ascendente)\n",
    "tareas.sort()\n",
    "\n",
    "# Crear una nueva lista solo con los nombres de las tareas\n",
    "tareas_sin_prioridad = [tarea[1] for tarea in tareas]\n",
    "\n",
    "# Mostrar las tareas sin los números de orden\n",
    "for tarea in tareas_sin_prioridad:\n",
    "    print(tarea)\n"
   ]
  },
  {
   "cell_type": "code",
   "execution_count": null,
   "id": "6215e218",
   "metadata": {},
   "outputs": [],
   "source": []
  }
 ],
 "metadata": {
  "kernelspec": {
   "display_name": "Python 3 (ipykernel)",
   "language": "python",
   "name": "python3"
  },
  "language_info": {
   "codemirror_mode": {
    "name": "ipython",
    "version": 3
   },
   "file_extension": ".py",
   "mimetype": "text/x-python",
   "name": "python",
   "nbconvert_exporter": "python",
   "pygments_lexer": "ipython3",
   "version": "3.10.9"
  }
 },
 "nbformat": 4,
 "nbformat_minor": 5
}
