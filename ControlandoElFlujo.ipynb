{
 "cells": [
  {
   "cell_type": "code",
   "execution_count": null,
   "id": "ac136307",
   "metadata": {},
   "outputs": [],
   "source": [
    "Ejercicio 1\n",
    "Realiza un programa que lea dos números por teclado y permita elegir entre 3 opciones en un menú:\n",
    "\n",
    "Mostrar una suma de los dos números\n",
    "Mostrar una resta de los dos números (el primero menos el segundo)\n",
    "Mostrar una multiplicación de los dos números\n",
    "En caso de introducir una opción inválida, el programa informará de que no es correcta.\n"
   ]
  },
  {
   "cell_type": "code",
   "execution_count": 1,
   "id": "62aa8041",
   "metadata": {},
   "outputs": [
    {
     "name": "stdout",
     "output_type": "stream",
     "text": [
      "Introduce un número: 21\n",
      "Introduce un número: 15\n",
      "Menú:\n",
      "1. Mostrar suma de los dos números\n",
      "2. Mostrar resta de los dos números\n",
      "3. Mostrar multiplicación de los dos números\n",
      "Selecciona una opción (1-3): 1\n",
      "El resultado de la suma es: 36.0\n"
     ]
    }
   ],
   "source": [
    "def mostrar_menu():\n",
    "    print(\"Menú:\")\n",
    "    print(\"1. Mostrar suma de los dos números\")\n",
    "    print(\"2. Mostrar resta de los dos números\")\n",
    "    print(\"3. Mostrar multiplicación de los dos números\")\n",
    "\n",
    "def leer_numero():\n",
    "    while True:\n",
    "        try:\n",
    "            numero = float(input(\"Introduce un número: \"))\n",
    "            return numero\n",
    "        except ValueError:\n",
    "            print(\"Error: Debes introducir un número válido.\")\n",
    "\n",
    "# Función para realizar la suma de los dos números\n",
    "def suma(a, b):\n",
    "    return a + b\n",
    "\n",
    "# Función para realizar la resta de los dos números\n",
    "def resta(a, b):\n",
    "    return a - b\n",
    "\n",
    "# Función para realizar la multiplicación de los dos números\n",
    "def multiplicacion(a, b):\n",
    "    return a * b\n",
    "\n",
    "# Programa principal\n",
    "numero1 = leer_numero()\n",
    "numero2 = leer_numero()\n",
    "\n",
    "mostrar_menu()\n",
    "opcion = input(\"Selecciona una opción (1-3): \")\n",
    "\n",
    "if opcion == \"1\":\n",
    "    resultado = suma(numero1, numero2)\n",
    "    print(\"El resultado de la suma es:\", resultado)\n",
    "elif opcion == \"2\":\n",
    "    resultado = resta(numero1, numero2)\n",
    "    print(\"El resultado de la resta es:\", resultado)\n",
    "elif opcion == \"3\":\n",
    "    resultado = multiplicacion(numero1, numero2)\n",
    "    print(\"El resultado de la multiplicación es:\", resultado)\n",
    "else:\n",
    "    print(\"Opción inválida. Por favor, selecciona una opción correcta (1-3).\")\n"
   ]
  },
  {
   "cell_type": "code",
   "execution_count": null,
   "id": "4db88d2b",
   "metadata": {},
   "outputs": [],
   "source": [
    "Ejercicio 2\n",
    "Realiza un programa que lea un número impar por teclado. Si el usuario no introduce un número impar, debe repetise el proceso hasta que lo introduzca correctamente.\n"
   ]
  },
  {
   "cell_type": "code",
   "execution_count": 3,
   "id": "786d4976",
   "metadata": {},
   "outputs": [
    {
     "name": "stdout",
     "output_type": "stream",
     "text": [
      "Introduce un número impar: 2\n",
      "Error: Debes introducir un número impar.\n",
      "Introduce un número impar: 3\n",
      "El número impar introducido es: 3\n"
     ]
    }
   ],
   "source": [
    "def leer_numero_impar():\n",
    "    while True:\n",
    "        try:\n",
    "            numero = int(input(\"Introduce un número impar: \"))\n",
    "            if numero % 2 != 0:\n",
    "                return numero\n",
    "            else:\n",
    "                print(\"Error: Debes introducir un número impar.\")\n",
    "        except ValueError:\n",
    "            print(\"Error: Debes introducir un número válido.\")\n",
    "\n",
    "# Programa principal\n",
    "numero_impar = leer_numero_impar()\n",
    "print(\"El número impar introducido es:\", numero_impar)\n"
   ]
  },
  {
   "cell_type": "code",
   "execution_count": null,
   "id": "2e71790f",
   "metadata": {},
   "outputs": [],
   "source": [
    "Ejercicio 3\n",
    "Realiza un programa que sume todos los números enteros pares desde el 0 hasta el 100.\n",
    "\n",
    "Sugerencia\n",
    "\n",
    "Puedes utilizar la funciones sum() y range() para hacerlo más fácil.\n",
    "El tercer parámetro en la función range(inicio, fin, salto) indica un salto de números, pruébalo.\n"
   ]
  },
  {
   "cell_type": "code",
   "execution_count": 4,
   "id": "58ed8b30",
   "metadata": {},
   "outputs": [
    {
     "name": "stdout",
     "output_type": "stream",
     "text": [
      "La suma de los números enteros pares desde 0 hasta 100 es: 2550\n"
     ]
    }
   ],
   "source": [
    "numeros_pares = range(0, 101, 2)  # Genera una secuencia de números pares del 0 al 100 con un salto de 2\n",
    "suma = sum(numeros_pares)  # Suma todos los números de la secuencia\n",
    "print(\"La suma de los números enteros pares desde 0 hasta 100 es:\", suma)\n",
    "\n"
   ]
  },
  {
   "cell_type": "code",
   "execution_count": null,
   "id": "0837f735",
   "metadata": {},
   "outputs": [],
   "source": [
    "Ejercicio 4\n",
    "Realiza un programa que pida al usuario cuantos números quiere introducir. Luego lee todos los números y realiza una media aritmética."
   ]
  },
  {
   "cell_type": "code",
   "execution_count": 5,
   "id": "eb2c6c16",
   "metadata": {},
   "outputs": [
    {
     "name": "stdout",
     "output_type": "stream",
     "text": [
      "Ingrese la cantidad de números a introducir: 4\n",
      "Ingrese un número: 1\n",
      "Ingrese un número: 2\n",
      "Ingrese un número: 3\n",
      "Ingrese un número: 4\n",
      "La media aritmética de los números ingresados es: 2.5\n"
     ]
    }
   ],
   "source": [
    "cantidad_numeros = int(input(\"Ingrese la cantidad de números a introducir: \"))\n",
    "numeros = []\n",
    "\n",
    "for i in range(cantidad_numeros):\n",
    "    numero = float(input(\"Ingrese un número: \"))\n",
    "    numeros.append(numero)\n",
    "\n",
    "media = sum(numeros) / cantidad_numeros\n",
    "\n",
    "print(\"La media aritmética de los números ingresados es:\", media)\n"
   ]
  },
  {
   "cell_type": "code",
   "execution_count": null,
   "id": "0b3339a7",
   "metadata": {},
   "outputs": [],
   "source": [
    "Ejercicio 5\n",
    "Realiza un programa que pida al usuario un número entero del 0 al 9, y que mientras el número no sea correcto se repita el proceso. Luego debe comprobar si el número se encuentra en la lista de números y notificarlo:\n",
    "\n",
    "Concepto útil\n",
    "\n",
    "La sintaxis [valor] in [lista] permite comprobar si un valor se encuentra en una lista (devuelve True o False)."
   ]
  },
  {
   "cell_type": "code",
   "execution_count": 6,
   "id": "24c5a802",
   "metadata": {},
   "outputs": [
    {
     "name": "stdout",
     "output_type": "stream",
     "text": [
      "Ingrese un número entero del 0 al 9: 3\n",
      "El número 3 se encuentra en la lista.\n"
     ]
    }
   ],
   "source": [
    "numeros = [0, 1, 2, 3, 4, 5, 6, 7, 8, 9]\n",
    "\n",
    "while True:\n",
    "    numero = int(input(\"Ingrese un número entero del 0 al 9: \"))\n",
    "    if numero in numeros:\n",
    "        print(\"El número\", numero, \"se encuentra en la lista.\")\n",
    "        break\n",
    "    else:\n",
    "        print(\"El número ingresado no es válido. Intente nuevamente.\")\n"
   ]
  },
  {
   "cell_type": "code",
   "execution_count": null,
   "id": "55242f76",
   "metadata": {},
   "outputs": [],
   "source": [
    "Ejercicio 6\n",
    "Utilizando la función range() y la conversión a listas genera las siguientes listas dinámicamente:\n",
    "\n",
    "Todos los números del 0 al 10 [0, 1, 2, ..., 10]\n",
    "Todos los números del -10 al 0 [-10, -9, -8, ..., 0]\n",
    "Todos los números pares del 0 al 20 [0, 2, 4, ..., 20]\n",
    "Todos los números impares entre -20 y 0 [-19, -17, -15, ..., -1]\n",
    "Todos los números múltiples de 5 del 0 al 50 [0, 5, 10, ..., 50]\n",
    "Concepto útil\n",
    "\n",
    "Se pueden generar saltos en el range() estableciendo su tercer parámetro range(inicio, fin, salto), experimenta."
   ]
  },
  {
   "cell_type": "code",
   "execution_count": 7,
   "id": "9d4cc2e2",
   "metadata": {},
   "outputs": [
    {
     "name": "stdout",
     "output_type": "stream",
     "text": [
      "[0, 1, 2, 3, 4, 5, 6, 7, 8, 9, 10]\n",
      "[-10, -9, -8, -7, -6, -5, -4, -3, -2, -1, 0]\n",
      "[0, 2, 4, 6, 8, 10, 12, 14, 16, 18, 20]\n",
      "[-19, -17, -15, -13, -11, -9, -7, -5, -3, -1]\n",
      "[0, 5, 10, 15, 20, 25, 30, 35, 40, 45, 50]\n"
     ]
    }
   ],
   "source": [
    "# Todos los números del 0 al 10\n",
    "lista_1 = list(range(11))\n",
    "print(lista_1)\n",
    "\n",
    "# Todos los números del -10 al 0\n",
    "lista_2 = list(range(-10, 1))\n",
    "print(lista_2)\n",
    "\n",
    "# Todos los números pares del 0 al 20\n",
    "lista_3 = list(range(0, 21, 2))\n",
    "print(lista_3)\n",
    "\n",
    "# Todos los números impares entre -20 y 0\n",
    "lista_4 = list(range(-19, 0, 2))\n",
    "print(lista_4)\n",
    "\n",
    "# Todos los números múltiples de 5 del 0 al 50\n",
    "lista_5 = list(range(0, 51, 5))\n",
    "print(lista_5)\n"
   ]
  },
  {
   "cell_type": "code",
   "execution_count": null,
   "id": "d5cdbe73",
   "metadata": {},
   "outputs": [],
   "source": [
    "Ejercicio 7\n",
    "Dadas dos listas, debes generar una tercera con todos los elementos que se repitan en ellas, pero no debe repetirse ningún elemento en la nueva lista:\n",
    "\n",
    "\n",
    "lista_1 = [\"h\",'o','l','a',' ', 'm','u','n','d','o']\n",
    "lista_2 = [\"h\",'o','l','a',' ', 'l','u','n','a']"
   ]
  },
  {
   "cell_type": "code",
   "execution_count": 10,
   "id": "71577d5c",
   "metadata": {},
   "outputs": [
    {
     "name": "stdout",
     "output_type": "stream",
     "text": [
      "['l', 'h', 'n', 'a', 'u', 'o', ' ']\n"
     ]
    }
   ],
   "source": [
    "lista_1 = [\"h\", 'o', 'l', 'a', ' ', 'm', 'u', 'n', 'd', 'o']\n",
    "lista_2 = [\"h\", 'o', 'l', 'a', ' ', 'l', 'u', 'n', 'a']\n",
    "\n",
    "lista_3 = list(set(lista_1) & set(lista_2))\n",
    "print(lista_3)"
   ]
  },
  {
   "cell_type": "code",
   "execution_count": null,
   "id": "9c101146",
   "metadata": {},
   "outputs": [],
   "source": []
  },
  {
   "cell_type": "code",
   "execution_count": null,
   "id": "dc60a5cb",
   "metadata": {},
   "outputs": [],
   "source": []
  }
 ],
 "metadata": {
  "kernelspec": {
   "display_name": "Python 3 (ipykernel)",
   "language": "python",
   "name": "python3"
  },
  "language_info": {
   "codemirror_mode": {
    "name": "ipython",
    "version": 3
   },
   "file_extension": ".py",
   "mimetype": "text/x-python",
   "name": "python",
   "nbconvert_exporter": "python",
   "pygments_lexer": "ipython3",
   "version": "3.10.9"
  }
 },
 "nbformat": 4,
 "nbformat_minor": 5
}
