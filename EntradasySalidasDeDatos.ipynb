{
 "cells": [
  {
   "cell_type": "code",
   "execution_count": null,
   "id": "68a2e1ae",
   "metadata": {},
   "outputs": [],
   "source": [
    "Ejercicio 1\n",
    "Formatea los siguientes valores para mostrar el resultado indicado:\n",
    "\n",
    "\"Hola Mundo\" → Alineado a la derecha en 20 caracteres\n",
    "\"Hola Mundo\" → Truncamiento en el cuarto carácter (índice 3)\n",
    "\"Hola Mundo\" → Alineamiento al centro en 20 caracteres con truncamiento en el segundo carácter (índice 1)\n",
    "150 → Formateo a 5 números enteros rellenados con ceros\n",
    "7887 → Formateo a 7 números enteros rellenados con espacios\n",
    "20.02 → Formateo a 3 números enteros y 3 números decimales"
   ]
  },
  {
   "cell_type": "code",
   "execution_count": 1,
   "id": "4bd812a2",
   "metadata": {},
   "outputs": [
    {
     "name": "stdout",
     "output_type": "stream",
     "text": [
      "          Hola Mundo\n",
      "Hol\n",
      "         Ho         \n",
      "00150\n",
      "   7887\n",
      "020.020\n"
     ]
    }
   ],
   "source": [
    "# Valores a formatear\n",
    "valor_1 = \"Hola Mundo\"\n",
    "valor_2 = 150\n",
    "valor_3 = 7887\n",
    "valor_4 = 20.02\n",
    "\n",
    "# Formateo de los valores\n",
    "resultado_1 = \"{:>20}\".format(valor_1)  # Alineado a la derecha en 20 caracteres\n",
    "resultado_2 = \"{:.3}\".format(valor_1)  # Truncamiento en el cuarto carácter (índice 3)\n",
    "resultado_3 = \"{:^20.2}\".format(valor_1)  # Alineamiento al centro en 20 caracteres con truncamiento en el segundo carácter (índice 1)\n",
    "resultado_4 = \"{:05d}\".format(valor_2)  # Formateo a 5 números enteros rellenados con ceros\n",
    "resultado_5 = \"{:7d}\".format(valor_3)  # Formateo a 7 números enteros rellenados con espacios\n",
    "resultado_6 = \"{:07.3f}\".format(valor_4)  # Formateo a 3 números enteros y 3 números decimales\n",
    "\n",
    "# Mostrar los resultados\n",
    "print(resultado_1)\n",
    "print(resultado_2)\n",
    "print(resultado_3)\n",
    "print(resultado_4)\n",
    "print(resultado_5)\n",
    "print(resultado_6)\n"
   ]
  },
  {
   "cell_type": "code",
   "execution_count": null,
   "id": "d217356d",
   "metadata": {},
   "outputs": [],
   "source": [
    "Ejercicio 2\n",
    "Crea un script llamado tabla.py que realice las siguientes tareas:\n",
    "\n",
    "Debe tomar 2 argumentos, ambos números enteros positivos del 1 al 9, sino mostrará un error.\n",
    "El primer argumento hará referencia a las filas de una tabla, el segundo a las columnas.\n",
    "En caso de no recibir uno o ambos argumentos, debe mostrar información acerca de cómo utilizar el script.\n",
    "El script contendrá un bucle for que itere el número de veces del primer argumento.\n",
    "Dentro del for, añade un segundo for que itere el número de veces del segundo argumento.\n",
    "Dentro del segundo for ejecuta una instrucción print(\" * \", end=''), (**end=''* evita el salto de línea)*.\n",
    "Ejecuta el código y observa el resultado.\n",
    "Intenta deducir dónde y cómo añadir otra instruccion print() para dibujar una tabla.\n",
    "Recordatorio\n",
    "\n",
    "Recordatorio: Los argumentos se envían como cadenas separadas por espacios, si quieres enviar varias palabras como un argumento deberás indicarlas entre comillas dobles \"esto es un argumento\". Para capturar los argumentos debes utilizar el módulo sys y su lista argv:\n",
    "\n",
    "\n",
    "import sys\n",
    "print(sys.argv) # argumentos enviados"
   ]
  },
  {
   "cell_type": "code",
   "execution_count": null,
   "id": "5b78f162",
   "metadata": {},
   "outputs": [],
   "source": [
    "import sys\n",
    "\n",
    "# Verificar si se proporcionaron los argumentos necesarios\n",
    "if len(sys.argv) != 3:\n",
    "    print(\"Error: Debes proporcionar 2 argumentos enteros del 1 al 9.\")\n",
    "    print(\"Uso: python tabla.py <filas> <columnas>\")\n",
    "else:\n",
    "    try:\n",
    "        filas = int(sys.argv[1])\n",
    "        columnas = int(sys.argv[2])\n",
    "\n",
    "        # Verificar que los argumentos estén dentro del rango válido\n",
    "        if 1 <= filas <= 9 and 1 <= columnas <= 9:\n",
    "            # Iterar sobre las filas\n",
    "            for i in range(filas):\n",
    "                # Iterar sobre las columnas\n",
    "                for j in range(columnas):\n",
    "                    print(\" * \", end='')\n",
    "                print()  # Salto de línea para comenzar una nueva fila\n",
    "        else:\n",
    "            print(\"Error: Los argumentos deben ser números enteros del 1 al 9.\")\n",
    "    except ValueError:\n",
    "        print(\"Error: Los argumentos deben ser números enteros.\")\n",
    "\n"
   ]
  }
 ],
 "metadata": {
  "kernelspec": {
   "display_name": "Python 3 (ipykernel)",
   "language": "python",
   "name": "python3"
  },
  "language_info": {
   "codemirror_mode": {
    "name": "ipython",
    "version": 3
   },
   "file_extension": ".py",
   "mimetype": "text/x-python",
   "name": "python",
   "nbconvert_exporter": "python",
   "pygments_lexer": "ipython3",
   "version": "3.10.9"
  }
 },
 "nbformat": 4,
 "nbformat_minor": 5
}
