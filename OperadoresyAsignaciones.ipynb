{
 "cells": [
  {
   "cell_type": "code",
   "execution_count": null,
   "id": "8e46dd74",
   "metadata": {},
   "outputs": [],
   "source": [
    "Realiza un programa que lea 2 numeros por teclado y determine los siguientes aspectos (alcanza con mostrar T o F):\n",
    "- Si los dos numeros son iguales\n",
    "- Si los dos numeros son diferentes\n",
    "- Si el primero es mayor que el segundo\n",
    "- Si el segundo es mayor que el primero\n"
   ]
  },
  {
   "cell_type": "code",
   "execution_count": 1,
   "id": "ea0fff74",
   "metadata": {},
   "outputs": [
    {
     "name": "stdout",
     "output_type": "stream",
     "text": [
      "Ingrese el primer número: 2\n",
      "Ingrese el segundo número: 6\n",
      "¿Los dos números son iguales? False\n",
      "¿Los dos números son diferentes? True\n",
      "¿El primer número es mayor que el segundo? False\n",
      "¿El segundo número es mayor que el primero? True\n"
     ]
    }
   ],
   "source": [
    "numero1 = float(input(\"Ingrese el primer número: \"))\n",
    "numero2 = float(input(\"Ingrese el segundo número: \"))\n",
    "\n",
    "son_iguales = numero1 == numero2\n",
    "son_diferentes = numero1 != numero2\n",
    "primero_mayor = numero1 > numero2\n",
    "segundo_mayor = numero2 > numero1\n",
    "\n",
    "print(\"¿Los dos números son iguales?\", son_iguales)\n",
    "print(\"¿Los dos números son diferentes?\", son_diferentes)\n",
    "print(\"¿El primer número es mayor que el segundo?\", primero_mayor)\n",
    "print(\"¿El segundo número es mayor que el primero?\", segundo_mayor)\n"
   ]
  },
  {
   "cell_type": "code",
   "execution_count": null,
   "id": "e3798d38",
   "metadata": {},
   "outputs": [],
   "source": [
    "Utilizando operadores logicos determina si una cadena de texto introducida por el usuario tiene una longitud mayor o igual que 3 y a su vez es menor que diez (solo V o F)"
   ]
  },
  {
   "cell_type": "code",
   "execution_count": 3,
   "id": "1db2985b",
   "metadata": {},
   "outputs": [
    {
     "name": "stdout",
     "output_type": "stream",
     "text": [
      "Ingrese una cadena de texto: hola\n",
      "¿La cadena de texto tiene longitud mayor o igual que 3 y menor que 10? True\n"
     ]
    }
   ],
   "source": [
    "texto = input(\"Ingrese una cadena de texto: \")\n",
    "\n",
    "longitud_valida = len(texto) >= 3 and len(texto) < 10\n",
    "\n",
    "print(\"¿La cadena de texto tiene longitud mayor o igual que 3 y menor que 10?\", longitud_valida)\n"
   ]
  },
  {
   "cell_type": "code",
   "execution_count": null,
   "id": "cf31e0a3",
   "metadata": {},
   "outputs": [],
   "source": [
    "Realiza un programa que cumpla el siguiente algoritmo utilizando siempre que sea posible operadores en asignación:\n",
    "\n",
    "Guarda en una variable numero_magico el valor 12345679 (sin el 8)\n",
    "Lee por pantalla otro numero_usuario, especifica que sea entre 1 y 9\n",
    "Multiplica el numero_usuario por 9 en sí mismo\n",
    "Multiplica el numero_magico por el numero_usuario en sí mismo\n",
    "Finalmente muestra el valor final del numero_magico por pantalla"
   ]
  },
  {
   "cell_type": "code",
   "execution_count": 6,
   "id": "698be7e8",
   "metadata": {},
   "outputs": [
    {
     "name": "stdout",
     "output_type": "stream",
     "text": [
      "Ingrese un número entre 1 y 9: 1\n",
      "El valor final del número mágico es: 111111111\n"
     ]
    }
   ],
   "source": [
    "numero_magico = 12345679\n",
    "numero_usuario = int(input(\"Ingrese un número entre 1 y 9: \"))\n",
    "\n",
    "numero_usuario *= 9\n",
    "numero_magico *= numero_usuario\n",
    "\n",
    "print(\"El valor final del número mágico es:\", numero_magico)"
   ]
  },
  {
   "cell_type": "code",
   "execution_count": null,
   "id": "bb4c2bb4",
   "metadata": {},
   "outputs": [],
   "source": []
  }
 ],
 "metadata": {
  "kernelspec": {
   "display_name": "Python 3 (ipykernel)",
   "language": "python",
   "name": "python3"
  },
  "language_info": {
   "codemirror_mode": {
    "name": "ipython",
    "version": 3
   },
   "file_extension": ".py",
   "mimetype": "text/x-python",
   "name": "python",
   "nbconvert_exporter": "python",
   "pygments_lexer": "ipython3",
   "version": "3.10.9"
  }
 },
 "nbformat": 4,
 "nbformat_minor": 5
}
